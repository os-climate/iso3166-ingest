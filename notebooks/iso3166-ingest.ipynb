{
 "cells": [
  {
   "cell_type": "code",
   "execution_count": null,
   "id": "7dec07e8-1c7d-4864-8d7f-7b8079fc8aef",
   "metadata": {},
   "outputs": [],
   "source": []
  },
  {
   "cell_type": "markdown",
   "id": "2e9358c2-843e-4c9f-8a72-01c1b46c82a7",
   "metadata": {},
   "source": [
    "# Ingest ISO 3166 data into Trino pipeline\n",
    "\n",
    "Copyright (C) 2021 OS-Climate\n",
    "\n",
    "Permission is hereby granted, free of charge, to any person obtaining a copy of this software and associated documentation files (the \"Software\"), to deal in the Software without restriction, including without limitation the rights to use, copy, modify, merge, publish, distribute, sublicense, and/or sell copies of the Software, and to permit persons to whom the Software is furnished to do so, subject to the following conditions:\n",
    "\n",
    "The above copyright notice and this permission notice shall be included in all copies or substantial portions of the Software.\n",
    "\n",
    "THE SOFTWARE IS PROVIDED \"AS IS\", WITHOUT WARRANTY OF ANY KIND, EXPRESS OR IMPLIED, INCLUDING BUT NOT LIMITED TO THE WARRANTIES OF MERCHANTABILITY, FITNESS FOR A PARTICULAR PURPOSE AND NONINFRINGEMENT. IN NO EVENT SHALL THE AUTHORS OR COPYRIGHT HOLDERS BE LIABLE FOR ANY CLAIM, DAMAGES OR OTHER LIABILITY, WHETHER IN AN ACTION OF CONTRACT, TORT OR OTHERWISE, ARISING FROM, OUT OF OR IN CONNECTION WITH THE SOFTWARE OR THE USE OR OTHER DEALINGS IN THE SOFTWARE.\n",
    "\n",
    "Contributed by Michael Tiemann (Github: MichaelTiemannOSC)"
   ]
  },
  {
   "cell_type": "markdown",
   "id": "7b1b4016-7d49-41c2-a512-220c1afac830",
   "metadata": {},
   "source": [
    "Run these in a notebook cell if you need to install onto your nb env\n",
    "\n",
    "```python\n",
    "# 'capture' magic prevents long outputs from spamming your notebook\n",
    "%%capture pipoutput\n",
    "\n",
    "# For loading predefined environment variables from files\n",
    "# Typically used to load sensitive access credentials\n",
    "%pip install python-dotenv\n",
    "\n",
    "# Standard python package for interacting with S3 buckets\n",
    "%pip install boto3\n",
    "\n",
    "# Interacting with Trino and using Trino with sqlalchemy\n",
    "%pip install trino sqlalchemy sqlalchemy-trino\n",
    "\n",
    "# Pandas and parquet file i/o\n",
    "%pip install pandas pyarrow fastparquet\n",
    "\n",
    "# OS-Climate utilities to make data ingest easier\n",
    "%pip install osc-ingest-tools\n",
    "```"
   ]
  },
  {
   "cell_type": "code",
   "execution_count": null,
   "id": "3b5ed789-9a67-400f-b08d-bffb6e48e1af",
   "metadata": {},
   "outputs": [],
   "source": [
    "from dotenv import dotenv_values, load_dotenv\n",
    "from osc_ingest_trino import *\n",
    "import os\n",
    "import pathlib"
   ]
  },
  {
   "cell_type": "markdown",
   "id": "6a37d74d-25f9-4c55-a17a-c4d1b8442162",
   "metadata": {},
   "source": [
    "Load Environment Variables"
   ]
  },
  {
   "cell_type": "code",
   "execution_count": null,
   "id": "fb3678ba-ab2e-4d1e-b812-636315f0fc8c",
   "metadata": {},
   "outputs": [],
   "source": [
    "dotenv_dir = os.environ.get('CREDENTIAL_DOTENV_DIR', os.environ.get('PWD', '/opt/app-root/src'))\n",
    "dotenv_path = pathlib.Path(dotenv_dir) / 'credentials.env'\n",
    "if os.path.exists(dotenv_path):\n",
    "    load_dotenv(dotenv_path=dotenv_path,override=True)"
   ]
  },
  {
   "cell_type": "code",
   "execution_count": null,
   "id": "65b210ad-991a-494e-b872-28182bb79ffa",
   "metadata": {},
   "outputs": [],
   "source": [
    "import trino\n",
    "from sqlalchemy.engine import create_engine\n",
    "\n",
    "env_var_prefix = 'TRINO'\n",
    "\n",
    "sqlstring = 'trino://{user}@{host}:{port}/'.format(\n",
    "    user = os.environ[f'{env_var_prefix}_USER'],\n",
    "    host = os.environ[f'{env_var_prefix}_HOST'],\n",
    "    port = os.environ[f'{env_var_prefix}_PORT']\n",
    ")\n",
    "sqlargs = {\n",
    "    'auth': trino.auth.JWTAuthentication(os.environ[f'{env_var_prefix}_PASSWD']),\n",
    "    'http_scheme': 'https',\n",
    "    'catalog': 'osc_datacommons_dev'\n",
    "}\n",
    "engine = create_engine(sqlstring, connect_args = sqlargs)\n",
    "connection = engine.connect()"
   ]
  },
  {
   "cell_type": "code",
   "execution_count": null,
   "id": "3fa6bc63-4a78-4a4f-81a5-872ca3eb6577",
   "metadata": {},
   "outputs": [],
   "source": [
    "import osc_ingest_trino as osc\n",
    "\n",
    "trino_bucket = attach_s3_bucket(\"S3_DEV\")"
   ]
  },
  {
   "cell_type": "markdown",
   "id": "cbb3918a-e1e9-4281-91b8-14860024e832",
   "metadata": {},
   "source": [
    "Open a Trino connection using JWT for authentication"
   ]
  },
  {
   "cell_type": "code",
   "execution_count": null,
   "id": "75e44b1a-b3fc-4de7-a8a3-0b7b5c806cd2",
   "metadata": {},
   "outputs": [],
   "source": [
    "ingest_catalog = 'osc_datacommons_dev'\n",
    "ingest_schema = 'sandbox'\n",
    "essd_schema ='sandbox'"
   ]
  },
  {
   "cell_type": "code",
   "execution_count": null,
   "id": "cf7ed364-7b63-4f85-9763-12da29ca7281",
   "metadata": {},
   "outputs": [],
   "source": [
    "# Show available schemas to ensure trino connection is set correctly\n",
    "schema_read = engine.execute(f'show schemas in {ingest_catalog}')\n",
    "for row in schema_read.fetchall():\n",
    "    print(row)"
   ]
  },
  {
   "cell_type": "markdown",
   "id": "6f9446af-4d27-4209-93bd-cfc248cce2b8",
   "metadata": {},
   "source": [
    "The python module `pycountry` has all the data we need, and we can use it within python/pandas.\n",
    "\n",
    "We import the data here so we can use it in SQL/Trino queries."
   ]
  },
  {
   "cell_type": "code",
   "execution_count": null,
   "id": "36002a98-522f-43eb-91d8-75e92305f41c",
   "metadata": {},
   "outputs": [],
   "source": [
    "import pycountry"
   ]
  },
  {
   "cell_type": "markdown",
   "id": "e2182b2c-2fc2-4e7a-88a1-14c693bc4681",
   "metadata": {},
   "source": [
    "Enter the Pandas!"
   ]
  },
  {
   "cell_type": "code",
   "execution_count": null,
   "id": "6fb8aedc-1d0b-4aff-9fce-901fde5c10d3",
   "metadata": {},
   "outputs": [],
   "source": [
    "import pandas as pd\n",
    "import numpy as np\n",
    "import io"
   ]
  },
  {
   "cell_type": "markdown",
   "id": "ce05dc79-a4fe-48aa-abc5-08758a8d9ebe",
   "metadata": {},
   "source": [
    "Drop previous tables and schema to start with a fresh slate"
   ]
  },
  {
   "cell_type": "raw",
   "id": "e84ed0b2-9593-4cc6-9bb8-3a9850fe5043",
   "metadata": {},
   "source": [
    "sql = f\"show tables in {ingest_schema}\"\n",
    "print(sql)\n",
    "qres = engine.execute(sql)\n",
    "print(qres.fetchall())"
   ]
  },
  {
   "cell_type": "code",
   "execution_count": null,
   "id": "f55ffe79-61ea-45f4-9b44-eccf0a74e879",
   "metadata": {
    "tags": []
   },
   "outputs": [],
   "source": [
    "for ingest_table in [ 'countries', 'subdivisions' ]:\n",
    "    sql = f\"\"\"\n",
    "drop table if exists {ingest_schema}.{ingest_table}\n",
    "\"\"\"\n",
    "    print(sql)\n",
    "    qres = engine.execute(sql)\n",
    "    print(qres.fetchall())"
   ]
  },
  {
   "cell_type": "code",
   "execution_count": null,
   "id": "40ccf11d-1694-46be-ab3b-61c991e259b5",
   "metadata": {
    "tags": []
   },
   "outputs": [],
   "source": [
    "sql = f\"show tables in {ingest_schema}\"\n",
    "print(sql)\n",
    "qres = engine.execute(sql)\n",
    "print(qres.fetchall())"
   ]
  },
  {
   "cell_type": "raw",
   "id": "f731b8c1-4722-40f4-9e82-c763b36107de",
   "metadata": {},
   "source": [
    "sql = f\"\"\"\n",
    "drop schema if exists {ingest_catalog}.{ingest_schema}\n",
    "\"\"\"\n",
    "print(sql)\n",
    "qres = engine.execute(sql)\n",
    "print(qres.fetchall())\n",
    "\n",
    "# make sure schema exists, or table creation below will fail in weird ways\n",
    "sql = f\"\"\"\n",
    "create schema {ingest_catalog}.{ingest_schema}\n",
    "\"\"\"\n",
    "print(sql)\n",
    "qres = engine.execute(sql)\n",
    "print(qres.fetchall())"
   ]
  },
  {
   "cell_type": "markdown",
   "id": "d0933754-114a-4b0c-9f13-47f829651588",
   "metadata": {},
   "source": [
    "One table we want to link up with is defined in the ESSD schema.  It links ISO Alpha3 codes with UN regions."
   ]
  },
  {
   "cell_type": "code",
   "execution_count": null,
   "id": "711a5bf3-5299-4959-9c68-b5169507c2f4",
   "metadata": {},
   "outputs": [],
   "source": [
    "engine.execute(f\"select * from {essd_schema}.regions\").fetchall()[0:5]"
   ]
  },
  {
   "cell_type": "code",
   "execution_count": null,
   "id": "c0728acf-ee26-4960-b34b-c098718774fd",
   "metadata": {},
   "outputs": [],
   "source": [
    "df = pd.DataFrame([country.__dict__['_fields'] for country in pycountry.countries])\n",
    "df.replace({np.NaN:pd.NaT}, inplace=True)\n",
    "df_countries = df.convert_dtypes()\n",
    "df_countries"
   ]
  },
  {
   "cell_type": "code",
   "execution_count": null,
   "id": "005c82fd-ec54-4891-8c83-8310af84a783",
   "metadata": {},
   "outputs": [],
   "source": [
    "df = pd.DataFrame([subdivision.__dict__['_fields'] for subdivision in pycountry.subdivisions])\n",
    "display(df[df.parent_code.notna()])\n",
    "df.replace({np.NaN:pd.NaT}, inplace=True)\n",
    "df_subdivisions = df.convert_dtypes()\n",
    "df_subdivisions"
   ]
  },
  {
   "cell_type": "code",
   "execution_count": null,
   "id": "8df08171-9cb3-4b66-af6a-403b93bdc9bb",
   "metadata": {},
   "outputs": [],
   "source": [
    "for ingest_table, df in [ ('countries',df_countries), ('subdivisions', df_subdivisions)]:\n",
    "    table_check = engine.execute(f'drop table if exists {ingest_schema}.{ingest_table}')\n",
    "    for row in table_check.fetchall():\n",
    "        print(row)\n",
    "    columnschema = create_table_schema_pairs(df)\n",
    "    tabledef = f\"\"\"\n",
    "create table if not exists {ingest_schema}.{ingest_table} (\n",
    "{columnschema}\n",
    ") with (\n",
    "format = 'ORC'\n",
    ")\n",
    "\"\"\"\n",
    "    print(tabledef)\n",
    "\n",
    "    table_create = engine.execute(tabledef)\n",
    "    for row in table_create.fetchall():\n",
    "        print(row)\n",
    "    df.to_sql(ingest_table,\n",
    "              con=engine, schema=ingest_schema, if_exists='append',\n",
    "              index=False,\n",
    "              method=osc.TrinoBatchInsert(batch_size = 4000, verbose = False))\n",
    "    dataset_query = (f'SELECT * FROM {ingest_schema}.{ingest_table} limit 10')\n",
    "    print(dataset_query)\n",
    "    dataset = engine.execute(dataset_query)\n",
    "    for row in dataset.fetchall():\n",
    "        print(row)"
   ]
  },
  {
   "cell_type": "code",
   "execution_count": null,
   "id": "5391e35a-9e45-417f-b500-e16e7ff6ef36",
   "metadata": {},
   "outputs": [],
   "source": []
  }
 ],
 "metadata": {
  "kernelspec": {
   "display_name": "Python 3 (ipykernel)",
   "language": "python",
   "name": "python3"
  },
  "language_info": {
   "codemirror_mode": {
    "name": "ipython",
    "version": 3
   },
   "file_extension": ".py",
   "mimetype": "text/x-python",
   "name": "python",
   "nbconvert_exporter": "python",
   "pygments_lexer": "ipython3",
   "version": "3.8.8"
  }
 },
 "nbformat": 4,
 "nbformat_minor": 5
}
